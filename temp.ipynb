{
 "cells": [
  {
   "cell_type": "code",
   "execution_count": 1,
   "metadata": {},
   "outputs": [
    {
     "name": "stderr",
     "output_type": "stream",
     "text": [
      "2022-01-19 18:16:15.155871: W tensorflow/stream_executor/platform/default/dso_loader.cc:64] Could not load dynamic library 'libcudart.so.11.0'; dlerror: libcudart.so.11.0: cannot open shared object file: No such file or directory\n",
      "2022-01-19 18:16:15.155940: I tensorflow/stream_executor/cuda/cudart_stub.cc:29] Ignore above cudart dlerror if you do not have a GPU set up on your machine.\n"
     ]
    }
   ],
   "source": [
    "import nibabel as nib\n",
    "import os\n",
    "import numpy as np\n",
    "import tensorflow as tf\n",
    "import pandas as pd\n",
    "from sklearn.model_selection import train_test_split\n",
    "base_dir = '/home/fhd/projects/.DATASETS/HealthyControls/'\n",
    "ind_dir = os.path.join(base_dir,'C01')\n",
    "rec_path = os.path.join(ind_dir,'left_foot_trial_21.nii')"
   ]
  },
  {
   "cell_type": "code",
   "execution_count": 2,
   "metadata": {},
   "outputs": [],
   "source": [
    "def read_single(img_path:str) -> np.memmap:\n",
    "    '''function that gets the path of a single record and returns the memmap array in shape of (36,20,:)'''\n",
    "    img = nib.load(img_path)\n",
    "    try:\n",
    "        data = img.get_fdata()\n",
    "        if not (data.shape[1] <20 or data.shape[0] < 35):\n",
    "            return img.get_fdata()[:35,:20,:]\n",
    "    except :\n",
    "        return None\n",
    "\n",
    "def read_all(all_path:list) -> pd.DataFrame:\n",
    "    '''get list of paths and returns of Y memmap of all records shape of (36,20,:)'''\n",
    "    Y = np.zeros((35,20,0)) # initiating Y \n",
    "    #reading all images\n",
    "    for path in all_path:\n",
    "        arr = read_single(os.path.join(ind_dir,path))\n",
    "        if type(arr)==np.memmap: Y = np.append(Y,arr,axis=2) #appending to Y\n",
    "    return Y\n",
    "    \n",
    "def preprocess(memmap:np.memmap) -> pd.DataFrame:\n",
    "    memmap = memmap.reshape(-1, memmap.shape[-1])\n",
    "    return pd.DataFrame(memmap).T\n",
    "\n",
    "def create_model():\n",
    "    model = tf.keras.Sequential()\n",
    "    model.add(tf.keras.Input(shape=(10,)))\n",
    "    model.add(tf.keras.layers.Dense(16,activation='relu'))\n",
    "    model.add(tf.keras.layers.Dense(32,activation='relu'))\n",
    "    model.add(tf.keras.layers.Dense(64,activation='relu'))\n",
    "    model.add(tf.keras.layers.Dense(128,activation='relu'))\n",
    "    model.add(tf.keras.layers.Dense(256,activation='relu'))\n",
    "    model.add(tf.keras.layers.Dense(512,activation='relu'))\n",
    "    model.add(tf.keras.layers.Dense(700,activation='linear'))\n",
    "    model.compile(optimizer='adam', loss='mse',metrics=['MeanSquaredError',])\n",
    "    return model\n",
    "\n",
    "def get_all_path( Left:bool =True, ex=None,inc=None) -> list:\n",
    "    '''if you want the left foot then put True else Flase, parameter ex excludes from output'''\n",
    "    all_path=[]\n",
    "    for folder in list(os.walk(base_dir)):\n",
    "        for filename in folder[2]:\n",
    "            if Left:\n",
    "                if 'left' in filename:\n",
    "                    all_path.append(os.path.join(folder[0],filename))\n",
    "            else:\n",
    "                if 'right' in filename:\n",
    "                    all_path.append(os.path.join(folder[0],filename))\n",
    "    if ex: all_path= list(filter(lambda x: ex not in x,all_path))\n",
    "    elif inc: all_path= list(filter(lambda x: inc in x,all_path))\n",
    "    return all_path\n",
    "\n",
    "def animate(result,name):\n",
    "    import matplotlib.pyplot as plt\n",
    "    from celluloid import Camera\n",
    "    fig = plt.figure(figsize=(3,6))\n",
    "    camera = Camera(fig)\n",
    "    for i in range (result.shape[2]):\n",
    "        plt.contourf(result[:,:,i],cmap='Reds')\n",
    "        plt.title(i)\n",
    "        if i:\n",
    "            camera.snap()\n",
    "    animation = camera.animate()\n",
    "    animation.save(os.path.join('output',name),fps=70)\n",
    "\n",
    "def convert_2dIndex_to_1d(index):\n",
    "    shape = (35,20)\n",
    "    x,y = index\n",
    "    _,Y = shape\n",
    "    return x*Y+y\n",
    "        "
   ]
  },
  {
   "cell_type": "code",
   "execution_count": 16,
   "metadata": {},
   "outputs": [],
   "source": [
    "#making Y dataset\n",
    "all_path = get_all_path(ex='C31')\n",
    "Y = read_all(all_path)\n",
    "Y = preprocess(Y)"
   ]
  },
  {
   "cell_type": "code",
   "execution_count": 20,
   "metadata": {},
   "outputs": [],
   "source": [
    "#making X dataset\n",
    "selected_nodes_2d =[(14,4),(11,4),(5,21),(3,22),(10,27),(7,32),(6,30),(9,32),(12,27),(6,23)]\n",
    "selected_nodes_1d = list(map(convert_2dIndex_to_1d,selected_nodes_2d))\n",
    "X = Y[selected_nodes_1d]"
   ]
  },
  {
   "cell_type": "code",
   "execution_count": 21,
   "metadata": {},
   "outputs": [],
   "source": [
    "# Splitting datasets\n",
    "X_train, X_test, y_train, y_test = train_test_split( X, Y, test_size=0.2, shuffle =False)"
   ]
  },
  {
   "cell_type": "code",
   "execution_count": 22,
   "metadata": {},
   "outputs": [
    {
     "name": "stderr",
     "output_type": "stream",
     "text": [
      "2022-01-19 14:15:18.437979: W tensorflow/stream_executor/platform/default/dso_loader.cc:64] Could not load dynamic library 'libcuda.so.1'; dlerror: libcuda.so.1: cannot open shared object file: No such file or directory\n",
      "2022-01-19 14:15:18.438282: W tensorflow/stream_executor/cuda/cuda_driver.cc:269] failed call to cuInit: UNKNOWN ERROR (303)\n",
      "2022-01-19 14:15:18.438588: I tensorflow/stream_executor/cuda/cuda_diagnostics.cc:156] kernel driver does not appear to be running on this host (Fhd): /proc/driver/nvidia/version does not exist\n",
      "2022-01-19 14:15:18.443870: I tensorflow/core/platform/cpu_feature_guard.cc:151] This TensorFlow binary is optimized with oneAPI Deep Neural Network Library (oneDNN) to use the following CPU instructions in performance-critical operations:  AVX2 AVX512F FMA\n",
      "To enable them in other operations, rebuild TensorFlow with the appropriate compiler flags.\n"
     ]
    }
   ],
   "source": [
    "model = create_model()"
   ]
  },
  {
   "cell_type": "code",
   "execution_count": 23,
   "metadata": {},
   "outputs": [
    {
     "name": "stderr",
     "output_type": "stream",
     "text": [
      "2022-01-19 14:15:46.301999: W tensorflow/core/framework/cpu_allocator_impl.cc:82] Allocation of 916860000 exceeds 10% of free system memory.\n"
     ]
    },
    {
     "name": "stdout",
     "output_type": "stream",
     "text": [
      "Epoch 1/5\n",
      "2559/2559 [==============================] - ETA: 0s - loss: 19.3886 - mean_squared_error: 19.3886"
     ]
    },
    {
     "name": "stderr",
     "output_type": "stream",
     "text": [
      "2022-01-19 14:16:00.559989: W tensorflow/core/framework/cpu_allocator_impl.cc:82] Allocation of 229219200 exceeds 10% of free system memory.\n"
     ]
    },
    {
     "name": "stdout",
     "output_type": "stream",
     "text": [
      "2559/2559 [==============================] - 15s 5ms/step - loss: 19.3886 - mean_squared_error: 19.3886 - val_loss: 19.4824 - val_mean_squared_error: 19.4824\n",
      "Epoch 2/5\n",
      "2559/2559 [==============================] - 12s 5ms/step - loss: 18.5366 - mean_squared_error: 18.5366 - val_loss: 19.6606 - val_mean_squared_error: 19.6606\n",
      "Epoch 3/5\n",
      "2559/2559 [==============================] - 12s 5ms/step - loss: 18.3731 - mean_squared_error: 18.3731 - val_loss: 19.7185 - val_mean_squared_error: 19.7185\n",
      "Epoch 4/5\n",
      "2559/2559 [==============================] - 12s 5ms/step - loss: 18.2188 - mean_squared_error: 18.2188 - val_loss: 20.0326 - val_mean_squared_error: 20.0326\n",
      "Epoch 5/5\n",
      "2559/2559 [==============================] - 12s 5ms/step - loss: 18.0897 - mean_squared_error: 18.0897 - val_loss: 19.6809 - val_mean_squared_error: 19.6809\n"
     ]
    },
    {
     "data": {
      "text/plain": [
       "<keras.callbacks.History at 0x7fb5f46241c0>"
      ]
     },
     "execution_count": 23,
     "metadata": {},
     "output_type": "execute_result"
    }
   ],
   "source": [
    "model.fit(\n",
    "    x=X_train, y=y_train, batch_size=64, epochs=5,\n",
    "    validation_split=0.2, validation_data=None, shuffle=True,\n",
    "    workers=2, use_multiprocessing=True\n",
    ")"
   ]
  },
  {
   "cell_type": "code",
   "execution_count": 29,
   "metadata": {},
   "outputs": [],
   "source": [
    "#making plot dataset\n",
    "test_path = get_all_path(inc='C31')\n",
    "Yplot = read_all(test_path)\n",
    "Yplot = preprocess(Yplot)\n",
    "Xplot = Yplot[selected_nodes_1d]"
   ]
  },
  {
   "cell_type": "code",
   "execution_count": 30,
   "metadata": {},
   "outputs": [],
   "source": [
    "results = model.predict(Xplot)"
   ]
  },
  {
   "cell_type": "code",
   "execution_count": 32,
   "metadata": {},
   "outputs": [],
   "source": [
    "result = results.T\n",
    "result = result.reshape(35,20,result.shape[-1])"
   ]
  },
  {
   "cell_type": "code",
   "execution_count": 6,
   "metadata": {},
   "outputs": [
    {
     "ename": "NameError",
     "evalue": "name 'result' is not defined",
     "output_type": "error",
     "traceback": [
      "\u001b[0;31m---------------------------------------------------------------------------\u001b[0m",
      "\u001b[0;31mNameError\u001b[0m                                 Traceback (most recent call last)",
      "\u001b[0;32m/tmp/ipykernel_17448/2255546438.py\u001b[0m in \u001b[0;36m<module>\u001b[0;34m\u001b[0m\n\u001b[0;32m----> 1\u001b[0;31m \u001b[0manimate\u001b[0m\u001b[0;34m(\u001b[0m\u001b[0mresult\u001b[0m\u001b[0;34m[\u001b[0m\u001b[0;34m:\u001b[0m\u001b[0;34m,\u001b[0m\u001b[0;34m:\u001b[0m\u001b[0;34m,\u001b[0m\u001b[0;34m:\u001b[0m\u001b[0;36m350\u001b[0m\u001b[0;34m]\u001b[0m\u001b[0;34m,\u001b[0m\u001b[0;34m'model-10input-first350-epoch5-fps70.gif'\u001b[0m\u001b[0;34m)\u001b[0m\u001b[0;34m\u001b[0m\u001b[0;34m\u001b[0m\u001b[0m\n\u001b[0m",
      "\u001b[0;31mNameError\u001b[0m: name 'result' is not defined"
     ]
    }
   ],
   "source": [
    "animate(result[:,:,:350],'model-10input-first350-epoch5-fps70.gif')"
   ]
  },
  {
   "cell_type": "code",
   "execution_count": 3,
   "metadata": {},
   "outputs": [],
   "source": [
    "test_path = get_all_path(inc='C31')\n",
    "Yplot = read_all(test_path)"
   ]
  },
  {
   "cell_type": "code",
   "execution_count": 5,
   "metadata": {},
   "outputs": [
    {
     "data": {
      "image/png": "[encoded data removed]",
      "text/plain": [
       "<Figure size 216x432 with 1 Axes>"
      ]
     },
     "metadata": {
      "needs_background": "light"
     },
     "output_type": "display_data"
    }
   ],
   "source": [
    "animate(Yplot[:,:,:350],'grandTruth-C031-first350-fps70.gif')"
   ]
  }
 ],
 "metadata": {
  "interpreter": {
   "hash": "e7370f93d1d0cde622a1f8e1c04877d8463912d04d973331ad4851f04de6915a"
  },
  "kernelspec": {
   "display_name": "Python 3.9.7 64-bit",
   "language": "python",
   "name": "python3"
  },
  "language_info": {
   "codemirror_mode": {
    "name": "ipython",
    "version": 3
   },
   "file_extension": ".py",
   "mimetype": "text/x-python",
   "name": "python",
   "nbconvert_exporter": "python",
   "pygments_lexer": "ipython3",
   "version": "3.9.7"
  },
  "orig_nbformat": 4
 },
 "nbformat": 4,
 "nbformat_minor": 2
}

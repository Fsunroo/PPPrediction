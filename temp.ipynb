{
 "cells": [
  {
   "cell_type": "code",
   "execution_count": 10,
   "metadata": {},
   "outputs": [],
   "source": [
    "import os\n",
    "import numpy as np\n",
    "import tensorflow as tf\n",
    "import pandas as pd\n",
    "from sklearn.model_selection import train_test_split\n",
    "import csv\n",
    "import matplotlib.pyplot as plt\n",
    "base_dir = '/home/fhd/projects/frelnc/signal/cnnmodel/data/'\n",
    "rec_path = os.path.join(base_dir,'Patient_03_zool2_links.asc')"
   ]
  },
  {
   "cell_type": "code",
   "execution_count": 92,
   "metadata": {},
   "outputs": [],
   "source": [
    "#defining necessary functions\n",
    "def read_single(rec_path:str,Left=True) -> pd.DataFrame:\n",
    "    f = open(rec_path,'r').readlines()\n",
    "    f=[i.strip() for i in f][10:]\n",
    "    f=[i.split('\\t') for i in f]\n",
    "    df = pd.DataFrame(f).drop(0,axis=1)\n",
    "\n",
    "    df=df.astype(float)\n",
    "    if Left:\n",
    "        df= df[[i for i in range(1,100)]]\n",
    "    else:\n",
    "        df= df[[i for i in range(100,199)]]\n",
    "\n",
    "    for i in range(len(df)):\n",
    "        if df.loc[i].any()==0:\n",
    "            df = df.drop(i,axis=0)\n",
    "    df = df.reset_index().drop('index',axis=1)\n",
    "    return df\n",
    "\n",
    "def read_all(path:str) -> pd.DataFrame:\n",
    "    df= pd.DataFrame()\n",
    "    for file in os.listdir(path):\n",
    "        if file.endswith('asc'):\n",
    "            df = df.append(read_single(os.path.join(path,file)))\n",
    "    return df.reset_index().drop('index',axis=1)\n",
    "\n",
    "def create_model():\n",
    "    model = tf.keras.Sequential()\n",
    "    model.add(tf.keras.Input(shape=(12,)))\n",
    "    model.add(tf.keras.layers.Dense(16,activation='relu'))\n",
    "    model.add(tf.keras.layers.Dense(32,activation='relu'))\n",
    "    model.add(tf.keras.layers.Dense(64,activation='relu'))\n",
    "    model.add(tf.keras.layers.Dense(99,activation='linear'))\n",
    "    model.compile(optimizer='adam', loss='mse',metrics=['MeanSquaredError',])\n",
    "    return model\n",
    "\n",
    "def animate(result,name):\n",
    "    import matplotlib.pyplot as plt\n",
    "    from celluloid import Camera\n",
    "    fig = plt.figure(figsize=(3,6))\n",
    "    camera = Camera(fig)\n",
    "    for i in range (result.shape[2]):\n",
    "        plt.contourf(result[:,:,i],cmap='Reds')\n",
    "        plt.title(i)\n",
    "        if i:\n",
    "            camera.snap()\n",
    "    animation = camera.animate()\n",
    "    animation.save(os.path.join('output',name),fps=70)\n",
    "\n",
    "def convert_2dIndex_to_1d(index):\n",
    "    shape = (35,20)\n",
    "    x,y = index\n",
    "    _,Y = shape\n",
    "    return x*Y+y\n",
    "\n",
    "def read_input(INPUT):\n",
    "    x_input,y_input,p=[],[],[]\n",
    "    with open(INPUT, newline='') as f:\n",
    "        reader = csv.reader(f)\n",
    "        for row in reader:\n",
    "            x_input.append(row[0])\n",
    "            y_input.append(row[1])\n",
    "            p.append(row[2])\n",
    "        f.close()\n",
    "    x_input = np.array(x_input[1:],dtype=float)\n",
    "    y_input = np.array(y_input[1:],dtype=float)\n",
    "    p = np.array(p[1:],dtype=float)\n",
    "    return x_input,y_input,p\n",
    "\n",
    "def animate(x:np.array,y:np.array,result:pd.DataFrame,name:str,max=300,):\n",
    "    import matplotlib.pyplot as plt\n",
    "    from celluloid import Camera\n",
    "    fig = plt.figure(figsize=(3,6))\n",
    "    camera = Camera(fig)\n",
    "    for i in range(len(result)):\n",
    "        plt.tricontourf(x,y,result.loc[i],cmap='Reds')\n",
    "        plt.title(i)\n",
    "        if i:\n",
    "            camera.snap()\n",
    "        if i==max: break\n",
    "    animation = camera.animate()\n",
    "    animation.save(os.path.join('output',name),fps=70)\n",
    "\n",
    "def calculate_dist(pointa,pointb):\n",
    "    xa,ya=pointa\n",
    "    xb,yb=pointb\n",
    "    return ((xa-xb)**2 + (ya-yb)**2)**0.5\n",
    "\n",
    "def find_nearest(array, point):\n",
    "    idx = np.asarray([calculate_dist(cordinate,point) for cordinate in cordinates]).argmin()\n",
    "    return array[idx]"
   ]
  },
  {
   "cell_type": "code",
   "execution_count": 98,
   "metadata": {},
   "outputs": [],
   "source": [
    "Y = read_all(base_dir)\n",
    "x,y,_ = read_input('/home/fhd/projects/frelnc/signal/compress1/input.csv')\n",
    "cordinates = [(i,j) for i,j in zip (x,y)]"
   ]
  },
  {
   "cell_type": "code",
   "execution_count": 99,
   "metadata": {},
   "outputs": [],
   "source": [
    "selected_nodes_2d =[(4.99,3.3),(3.66,3.3),(6.32,3.3),(4.99,4.6), #posterior\n",
    "                    (7.6,12.4),(7.6,11.1),(6.2,11.1),           #Lateral\n",
    "                    (4.68,12.4),                                #Median\n",
    "                    (8.58,17.6),                                #AntroLateral\n",
    "                    (1,18.9),                                   #AntroMedial\n",
    "                    (1.55, 15.0),(3.1, 15.0),                   #Medial\n",
    "                    ]                      \n",
    "                    \n",
    "selected_nodes_1d = list(map(lambda x : cordinates.index(x),selected_nodes_2d))\n",
    "X = Y[selected_nodes_1d]"
   ]
  },
  {
   "cell_type": "code",
   "execution_count": 100,
   "metadata": {},
   "outputs": [],
   "source": [
    "X_train, X_test, y_train, y_test = train_test_split( X, Y, test_size=0.2, shuffle =False)"
   ]
  },
  {
   "cell_type": "code",
   "execution_count": null,
   "metadata": {},
   "outputs": [
    {
     "name": "stderr",
     "output_type": "stream",
     "text": [
      "2022-01-22 20:00:13.233469: W tensorflow/stream_executor/platform/default/dso_loader.cc:64] Could not load dynamic library 'libcuda.so.1'; dlerror: libcuda.so.1: cannot open shared object file: No such file or directory\n",
      "2022-01-22 20:00:13.233522: W tensorflow/stream_executor/cuda/cuda_driver.cc:269] failed call to cuInit: UNKNOWN ERROR (303)\n",
      "2022-01-22 20:00:13.233541: I tensorflow/stream_executor/cuda/cuda_diagnostics.cc:156] kernel driver does not appear to be running on this host (Fhd): /proc/driver/nvidia/version does not exist\n",
      "2022-01-22 20:00:13.234475: I tensorflow/core/platform/cpu_feature_guard.cc:151] This TensorFlow binary is optimized with oneAPI Deep Neural Network Library (oneDNN) to use the following CPU instructions in performance-critical operations:  AVX2 AVX512F FMA\n",
      "To enable them in other operations, rebuild TensorFlow with the appropriate compiler flags.\n"
     ]
    }
   ],
   "source": [
    "model = create_model()"
   ]
  },
  {
   "cell_type": "code",
   "execution_count": 102,
   "metadata": {},
   "outputs": [
    {
     "name": "stdout",
     "output_type": "stream",
     "text": [
      "Epoch 1/5\n",
      "8/8 [==============================] - 1s 25ms/step - loss: 2776.0190 - mean_squared_error: 2776.0190 - val_loss: 2650.4436 - val_mean_squared_error: 2650.4436\n",
      "Epoch 2/5\n",
      "8/8 [==============================] - 0s 5ms/step - loss: 2549.4783 - mean_squared_error: 2549.4783 - val_loss: 2378.5698 - val_mean_squared_error: 2378.5698\n",
      "Epoch 3/5\n",
      "8/8 [==============================] - 0s 6ms/step - loss: 2256.3145 - mean_squared_error: 2256.3145 - val_loss: 2022.2379 - val_mean_squared_error: 2022.2379\n",
      "Epoch 4/5\n",
      "8/8 [==============================] - 0s 6ms/step - loss: 1887.0228 - mean_squared_error: 1887.0228 - val_loss: 1622.0521 - val_mean_squared_error: 1622.0521\n",
      "Epoch 5/5\n",
      "8/8 [==============================] - 0s 7ms/step - loss: 1517.6788 - mean_squared_error: 1517.6788 - val_loss: 1280.8752 - val_mean_squared_error: 1280.8752\n"
     ]
    },
    {
     "data": {
      "text/plain": [
       "<keras.callbacks.History at 0x7fbffdf6d6d0>"
      ]
     },
     "execution_count": 102,
     "metadata": {},
     "output_type": "execute_result"
    }
   ],
   "source": [
    "model.fit(\n",
    "    x=X_train, y=y_train, batch_size=64, epochs=5,\n",
    "    validation_split=0.2, validation_data=None, shuffle=True,\n",
    "    workers=2, use_multiprocessing=True\n",
    ")"
   ]
  },
  {
   "cell_type": "code",
   "execution_count": 103,
   "metadata": {},
   "outputs": [
    {
     "name": "stdout",
     "output_type": "stream",
     "text": [
      "5/5 [==============================] - 0s 1ms/step - loss: 1409.8746 - mean_squared_error: 1409.8746\n"
     ]
    },
    {
     "data": {
      "text/plain": [
       "[1409.8746337890625, 1409.8746337890625]"
      ]
     },
     "execution_count": 103,
     "metadata": {},
     "output_type": "execute_result"
    }
   ],
   "source": [
    "model.evaluate(X_test,y_test)"
   ]
  },
  {
   "cell_type": "code",
   "execution_count": 75,
   "metadata": {},
   "outputs": [
    {
     "data": {
      "text/plain": [
       "8"
      ]
     },
     "execution_count": 75,
     "metadata": {},
     "output_type": "execute_result"
    }
   ],
   "source": [
    "test = read_single('path')\n",
    "test_x = test[selected_nodes_1d]\n",
    "result = model.predict(test_x)\n",
    "model.save('model99.hdf5')"
   ]
  },
  {
   "cell_type": "code",
   "execution_count": null,
   "metadata": {},
   "outputs": [],
   "source": [
    "animate(x,y,result,'99predicted-bymodelV0.0.gif')"
   ]
  },
  {
   "cell_type": "code",
   "execution_count": 39,
   "metadata": {},
   "outputs": [
    {
     "data": {
      "image/png": "[encoded data removed]",
      "text/plain": [
       "<Figure size 216x432 with 1 Axes>"
      ]
     },
     "metadata": {
      "needs_background": "light"
     },
     "output_type": "display_data"
    }
   ],
   "source": [
    "animate(x,y,Y,'99sens.gif',max=350)"
   ]
  }
 ],
 "metadata": {
  "interpreter": {
   "hash": "e7370f93d1d0cde622a1f8e1c04877d8463912d04d973331ad4851f04de6915a"
  },
  "kernelspec": {
   "display_name": "Python 3.9.7 64-bit",
   "language": "python",
   "name": "python3"
  },
  "language_info": {
   "codemirror_mode": {
    "name": "ipython",
    "version": 3
   },
   "file_extension": ".py",
   "mimetype": "text/x-python",
   "name": "python",
   "nbconvert_exporter": "python",
   "pygments_lexer": "ipython3",
   "version": "3.9.7"
  },
  "orig_nbformat": 4
 },
 "nbformat": 4,
 "nbformat_minor": 2
}

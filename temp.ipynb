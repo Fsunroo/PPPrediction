{
 "cells": [
  {
   "cell_type": "code",
   "execution_count": 1,
   "metadata": {},
   "outputs": [
    {
     "name": "stderr",
     "output_type": "stream",
     "text": [
      "2022-04-07 00:33:42.332692: W tensorflow/stream_executor/platform/default/dso_loader.cc:64] Could not load dynamic library 'libcudart.so.11.0'; dlerror: libcudart.so.11.0: cannot open shared object file: No such file or directory\n",
      "2022-04-07 00:33:42.332729: I tensorflow/stream_executor/cuda/cudart_stub.cc:29] Ignore above cudart dlerror if you do not have a GPU set up on your machine.\n"
     ]
    }
   ],
   "source": [
    "import nibabel as nib\n",
    "import os\n",
    "import numpy as np\n",
    "import tensorflow as tf\n",
    "import pandas as pd\n",
    "from sklearn.model_selection import train_test_split\n",
    "import matplotlib.pyplot as plt\n",
    "import matplotlib.animation as animation\n",
    "import csv\n",
    "\n",
    "base_dir = '/home/fhd/projects/.DATASETS/HealthyControls/'\n",
    "ind_dir = os.path.join(base_dir,'C01')\n",
    "rec_path = os.path.join(ind_dir,'left_foot_trial_21.nii')\n",
    "INPUT = 'input.csv'\n",
    "\n",
    "#defing necessary functoins\n",
    "def read_single(img_path:str) -> np.memmap:\n",
    "    '''function that gets the path of a single record and returns the memmap array in shape of (36,20,:)'''\n",
    "    img = nib.load(img_path)\n",
    "    try:\n",
    "        data = img.get_fdata()\n",
    "        if not (data.shape[1] <20 or data.shape[0] < 35):\n",
    "            return img.get_fdata()[:35,:20,:]\n",
    "    except :\n",
    "        return None\n",
    "\n",
    "def read_all(all_path:list) -> pd.DataFrame:\n",
    "    '''get list of paths and returns of Y memmap of all records shape of (36,20,:)'''\n",
    "    Y = np.zeros((35,20,0)) # initiating Y \n",
    "    #reading all images\n",
    "    for path in all_path:\n",
    "        arr = read_single(os.path.join(ind_dir,path))\n",
    "        if type(arr)==np.memmap: Y = np.append(Y,arr,axis=2) #appending to Y\n",
    "    return Y\n",
    "    \n",
    "def preprocess(memmap:np.memmap) -> pd.DataFrame:\n",
    "    memmap = memmap.reshape(-1, memmap.shape[-1])\n",
    "    return pd.DataFrame(memmap).T\n",
    "\n",
    "def create_model():\n",
    "    model = tf.keras.Sequential()\n",
    "    model.add(tf.keras.Input(shape=(10,)))\n",
    "    model.add(tf.keras.layers.Dense(16,activation='relu'))\n",
    "    model.add(tf.keras.layers.Dense(32,activation='relu'))\n",
    "    model.add(tf.keras.layers.Dense(64,activation='relu'))\n",
    "    model.add(tf.keras.layers.Dense(128,activation='relu'))\n",
    "    model.add(tf.keras.layers.Dense(256,activation='relu'))\n",
    "    model.add(tf.keras.layers.Dense(512,activation='relu'))\n",
    "    model.add(tf.keras.layers.Dense(700,activation='linear'))\n",
    "    model.compile(optimizer='adam', loss='mse',metrics=['MeanSquaredError','mae'])\n",
    "    return model\n",
    "\n",
    "def get_all_path( Left:bool =True, ex=None,inc=None) -> list:\n",
    "    '''if you want the left foot then put True else Flase, parameter ex excludes from output'''\n",
    "    all_path=[]\n",
    "    for folder in list(os.walk(base_dir)):\n",
    "        for filename in folder[2]:\n",
    "            if Left:\n",
    "                if 'left' in filename:\n",
    "                    all_path.append(os.path.join(folder[0],filename))\n",
    "            else:\n",
    "                if 'right' in filename:\n",
    "                    all_path.append(os.path.join(folder[0],filename))\n",
    "    if ex: all_path= list(filter(lambda x: ex not in x,all_path))\n",
    "    elif inc: all_path= list(filter(lambda x: inc in x,all_path))\n",
    "    return all_path\n",
    "\n",
    "def read_input(INPUT):\n",
    "    x_input,y_input,p=[],[],[]\n",
    "    with open(INPUT, newline='') as f:\n",
    "        reader = csv.reader(f)\n",
    "        for row in reader:\n",
    "            x_input.append(row[0])\n",
    "            y_input.append(row[1])\n",
    "            p.append(row[2])\n",
    "        f.close()\n",
    "    x_input = np.array(x_input[1:],dtype=float)\n",
    "    y_input = np.array(y_input[1:],dtype=float)\n",
    "    p = np.array(p[1:],dtype=float)\n",
    "    return x_input,y_input,p\n",
    "\n",
    "def animate(x:np.array,y:np.array,result:pd.DataFrame,name:str,max=300):\n",
    "    if not 'output' in os.listdir(): os.mkdir('output')\n",
    "    if type(result)==pd.DataFrame:\n",
    "        result = result.to_numpy()\n",
    "    result=result[:max]\n",
    "    fig, ax=plt.subplots(figsize=(3,6))\n",
    "    p = [ax.tricontourf(x,y,result[0],cmap='Reds')]\n",
    "    def update(i):\n",
    "        for tp in p[0].collections:\n",
    "            tp.remove()\n",
    "        p[0] = ax.tricontourf(x,y,result[i],cmap='Reds') \n",
    "        return p[0].collections\n",
    "\n",
    "    ani = animation.FuncAnimation(fig, update, blit=True, repeat=True)\n",
    "    ani.save(os.path.join('output',name), fps=30)\n",
    "\n",
    "def convert_2dIndex_to_1d(index):\n",
    "    shape = (35,20)\n",
    "    x,y = index\n",
    "    _,Y = shape\n",
    "    return x*Y+y\n",
    "        \n",
    "\n",
    "#making Y dataset\n",
    "all_path = get_all_path(ex='C31')\n",
    "Y = read_all(all_path)\n",
    "Y = preprocess(Y)\n",
    "\n",
    "##making X dataset\n",
    "#selected_nodes_2d =[(14,4),(11,4),(5,21),(3,22),(10,27),(7,32),(6,30),(9,32),(12,27),(6,23)]\n",
    "#selected_nodes_1d = list(map(convert_2dIndex_to_1d,selected_nodes_2d))\n",
    "#X = Y[selected_nodes_1d]\n",
    "#\n",
    "## Splitting datasets\n",
    "#X_train, X_test, y_train, y_test = train_test_split( X, Y, test_size=0.2, shuffle =False)"
   ]
  },
  {
   "cell_type": "code",
   "execution_count": 2,
   "metadata": {},
   "outputs": [],
   "source": [
    "import pysensors as ps  \n",
    "class important_nodes:\n",
    "    def __init__(self,df,n):\n",
    "        \n",
    "        self.get_imp(df,n)\n",
    "\n",
    "    def get_imp(self,df,n):\n",
    "        model = ps.SSPOR(\n",
    "            basis=ps.basis.SVD(n_basis_modes=10),\n",
    "            n_sensors=n\n",
    "        )\n",
    "        model.fit(df.to_numpy())\n",
    "        self.sensors = model.get_selected_sensors()\n",
    "        return self.sensors"
   ]
  },
  {
   "cell_type": "code",
   "execution_count": 3,
   "metadata": {},
   "outputs": [],
   "source": [
    "Y = Y.loc[:,(Y!=0).any(axis=0)]"
   ]
  },
  {
   "cell_type": "code",
   "execution_count": 4,
   "metadata": {},
   "outputs": [
    {
     "data": {
      "text/plain": [
       "array([346, 105,  63, 427, 453, 495,  95, 533, 137, 459], dtype=int32)"
      ]
     },
     "execution_count": 4,
     "metadata": {},
     "output_type": "execute_result"
    }
   ],
   "source": [
    "selected = important_nodes(Y,10).sensors\n",
    "selected"
   ]
  },
  {
   "cell_type": "code",
   "execution_count": 5,
   "metadata": {},
   "outputs": [],
   "source": [
    "Y = (Y-Y.mean())/Y.std()"
   ]
  },
  {
   "cell_type": "code",
   "execution_count": 6,
   "metadata": {},
   "outputs": [],
   "source": [
    "X = Y[selected]\n",
    "X_train, X_test, y_train, y_test = train_test_split( X, Y, test_size=0.2, shuffle =False)"
   ]
  },
  {
   "cell_type": "code",
   "execution_count": 7,
   "metadata": {},
   "outputs": [
    {
     "name": "stderr",
     "output_type": "stream",
     "text": [
      "2022-04-07 00:36:35.074511: W tensorflow/stream_executor/platform/default/dso_loader.cc:64] Could not load dynamic library 'libcuda.so.1'; dlerror: libcuda.so.1: cannot open shared object file: No such file or directory\n",
      "2022-04-07 00:36:35.075349: W tensorflow/stream_executor/cuda/cuda_driver.cc:269] failed call to cuInit: UNKNOWN ERROR (303)\n",
      "2022-04-07 00:36:35.076253: I tensorflow/stream_executor/cuda/cuda_diagnostics.cc:156] kernel driver does not appear to be running on this host (Fhd): /proc/driver/nvidia/version does not exist\n",
      "2022-04-07 00:36:35.087748: I tensorflow/core/platform/cpu_feature_guard.cc:151] This TensorFlow binary is optimized with oneAPI Deep Neural Network Library (oneDNN) to use the following CPU instructions in performance-critical operations:  AVX2 AVX512F FMA\n",
      "To enable them in other operations, rebuild TensorFlow with the appropriate compiler flags.\n",
      "2022-04-07 00:36:35.903494: W tensorflow/core/framework/cpu_allocator_impl.cc:82] Allocation of 816005400 exceeds 10% of free system memory.\n"
     ]
    },
    {
     "name": "stdout",
     "output_type": "stream",
     "text": [
      "Epoch 1/3\n",
      "2559/2559 [==============================] - 14s 5ms/step - loss: 0.6948 - mean_squared_error: 0.4911 - mae: 0.2908 - root_mean_squared_error: 0.7008 - val_loss: 0.6668 - val_mean_squared_error: 0.5326 - val_mae: 0.3061 - val_root_mean_squared_error: 0.7298\n",
      "Epoch 2/3\n",
      "2559/2559 [==============================] - 12s 5ms/step - loss: 0.6606 - mean_squared_error: 0.4431 - mae: 0.2672 - root_mean_squared_error: 0.6656 - val_loss: 0.6662 - val_mean_squared_error: 0.5295 - val_mae: 0.3067 - val_root_mean_squared_error: 0.7276\n",
      "Epoch 3/3\n",
      "2559/2559 [==============================] - 13s 5ms/step - loss: 0.6475 - mean_squared_error: 0.4255 - mae: 0.2596 - root_mean_squared_error: 0.6523 - val_loss: 0.6665 - val_mean_squared_error: 0.5279 - val_mae: 0.3062 - val_root_mean_squared_error: 0.7265\n"
     ]
    }
   ],
   "source": [
    "import tensorflow.keras.backend as K\n",
    "\n",
    "def create_model():\n",
    "    model = tf.keras.Sequential()\n",
    "    model.add(tf.keras.Input(shape=(10,)))\n",
    "    model.add(tf.keras.layers.Dense(16,activation='relu'))\n",
    "    model.add(tf.keras.layers.Dense(32,activation='relu'))\n",
    "    model.add(tf.keras.layers.Dense(64,activation='relu'))\n",
    "    model.add(tf.keras.layers.Dense(128,activation='relu'))\n",
    "    model.add(tf.keras.layers.Dense(256,activation='relu'))\n",
    "    model.add(tf.keras.layers.Dense(512,activation='relu'))\n",
    "    model.add(tf.keras.layers.Dense(623,activation='linear'))\n",
    "    model.compile(optimizer='adam', loss=RMSE ,metrics=['MeanSquaredError','mae','RootMeanSquaredError'])\n",
    "    return model\n",
    "def RMSE(y_true, y_pred):\n",
    "        return K.sqrt(K.mean(K.square(y_pred - y_true))) \n",
    "\n",
    "model1 = create_model()\n",
    "history = model1.fit(\n",
    "    x=X_train, y=y_train, batch_size=64, epochs=3,\n",
    "    validation_split=0.2, validation_data=None, shuffle=True,\n",
    "    workers=2, use_multiprocessing=True\n",
    ")\n"
   ]
  },
  {
   "cell_type": "code",
   "execution_count": 8,
   "metadata": {},
   "outputs": [
    {
     "name": "stdout",
     "output_type": "stream",
     "text": [
      "  76/1599 [>.............................] - ETA: 3s - loss: 0.6238 - mean_squared_error: 0.4442 - mae: 0.2905 - root_mean_squared_error: 0.6665"
     ]
    },
    {
     "name": "stderr",
     "output_type": "stream",
     "text": [
      "2022-04-07 00:37:20.764367: W tensorflow/core/framework/cpu_allocator_impl.cc:82] Allocation of 255006360 exceeds 10% of free system memory.\n"
     ]
    },
    {
     "name": "stdout",
     "output_type": "stream",
     "text": [
      "1599/1599 [==============================] - 3s 2ms/step - loss: 0.8739 - mean_squared_error: 1.3348 - mae: 0.3701 - root_mean_squared_error: 1.1554\n"
     ]
    }
   ],
   "source": [
    "re = model1.evaluate(X_test,y_test)"
   ]
  },
  {
   "cell_type": "code",
   "execution_count": 9,
   "metadata": {},
   "outputs": [
    {
     "data": {
      "text/plain": [
       "<matplotlib.legend.Legend at 0x7f9f25edceb0>"
      ]
     },
     "execution_count": 9,
     "metadata": {},
     "output_type": "execute_result"
    },
    {
     "data": {
      "image/png": "[encoded data removed]",
      "text/plain": [
       "<Figure size 432x288 with 1 Axes>"
      ]
     },
     "metadata": {
      "needs_background": "light"
     },
     "output_type": "display_data"
    }
   ],
   "source": [
    "import matplotlib.pyplot as plt\n",
    "plt.plot(history.history['loss'], label='loss')\n",
    "plt.plot(history.history['val_loss'], label='val_loss')\n",
    "#plt.plot(history.history['mean_squared_error'], label='MeanSquaredError')\n",
    "#plt.plot(history.history['mae'], label='mae')\n",
    "#plt.plot(history.history['root_mean_squared_error'], label='RootMeanSquaredError')\n",
    "#plt.plot(history.history['val_mean_squared_error'], label='val_MeanSquaredError')\n",
    "plt.plot(history.history['val_mae'], label='val_mae')\n",
    "#plt.plot(history.history['val_root_mean_squared_error'], label='val_RootMeanSquaredError')\n",
    "plt.legend()"
   ]
  },
  {
   "cell_type": "code",
   "execution_count": 38,
   "metadata": {},
   "outputs": [],
   "source": [
    "with open('result.txt','w') as f:\n",
    "    f.write(str(['loss','mean_squared_error','mean_absolute_error','root_mean_squared_error'])+'\\n')\n",
    "    f.write(str(re))\n",
    "    f.close()\n",
    "model1.save('model.h5')"
   ]
  }
 ],
 "metadata": {
  "interpreter": {
   "hash": "e7370f93d1d0cde622a1f8e1c04877d8463912d04d973331ad4851f04de6915a"
  },
  "kernelspec": {
   "display_name": "Python 3.9.7 64-bit",
   "language": "python",
   "name": "python3"
  },
  "language_info": {
   "codemirror_mode": {
    "name": "ipython",
    "version": 3
   },
   "file_extension": ".py",
   "mimetype": "text/x-python",
   "name": "python",
   "nbconvert_exporter": "python",
   "pygments_lexer": "ipython3",
   "version": "3.9.7"
  },
  "orig_nbformat": 4
 },
 "nbformat": 4,
 "nbformat_minor": 2
}
